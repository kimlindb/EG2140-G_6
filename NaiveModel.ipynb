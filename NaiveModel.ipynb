{
 "cells": [
  {
   "cell_type": "markdown",
   "id": "99fa3d54",
   "metadata": {},
   "source": [
    "# Hello and welcome"
   ]
  },
  {
   "cell_type": "code",
   "execution_count": null,
   "id": "a07d5bd9",
   "metadata": {},
   "outputs": [],
   "source": [
    "# import lib and data\n"
   ]
  }
 ],
 "metadata": {
  "kernelspec": {
   "display_name": "venv",
   "language": "python",
   "name": "python3"
  },
  "language_info": {
   "name": "python",
   "version": "3.10.4"
  }
 },
 "nbformat": 4,
 "nbformat_minor": 5
}
