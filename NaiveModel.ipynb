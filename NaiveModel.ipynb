{
 "cells": [
  {
   "cell_type": "markdown",
   "id": "99fa3d54",
   "metadata": {},
   "source": [
    "# Hello and welcome"
   ]
  },
  {
   "cell_type": "code",
   "execution_count": null,
   "id": "a07d5bd9",
   "metadata": {},
   "outputs": [],
   "source": [
    "# import lib and data\n",
    "import numpy as np\n",
    "import pandas as pd\n",
    "from sklearn.metrics import mean_absolute_error\n",
    "\n",
    "# train\n",
    "y_all = pd.read_csv(\"data/target_train.csv\")\n",
    "y_all[\"dtm\"] = pd.to_datetime(y_all[\"dtm\"])\n",
    "\n",
    "# comp\n",
    "energy_data_2 = pd.read_csv(\"data_comp/Energy_Data_20240119_20240519.csv\")\n",
    "energy_data_2[\"dtm\"] = pd.to_datetime(energy_data_2[\"dtm\"])\n",
    "\n",
    "energy_data_2[\"Wind_MWh_credit\"] = 0.5 * energy_data_2[\"Wind_MW\"] - energy_data_2[\"boa_MWh\"]\n",
    "energy_data_2[\"Solar_MWh_credit\"] = 0.5 * energy_data_2[\"Solar_MW\"]\n",
    "energy_data_2[\"total_generation_MWh\"] = energy_data_2[\"Wind_MWh_credit\"] + energy_data_2[\"Solar_MWh_credit\"]\n"
   ]
  },
  {
   "cell_type": "markdown",
   "id": "d970cfae",
   "metadata": {},
   "source": [
    "# Train and Comp for Random Forest"
   ]
  },
  {
   "cell_type": "code",
   "execution_count": null,
   "id": "1f683b8a",
   "metadata": {},
   "outputs": [
    {
     "name": "stdout",
     "output_type": "stream",
     "text": [
      "Train Naive MAE: 210.74215825708842\n",
      "Comp Naive MAE: 164.0164399063994\n"
     ]
    }
   ],
   "source": [
    "# Train data\n",
    "# RandomForest split date\n",
    "split_date = pd.Timestamp(\"2022-10-01 00:00:00+00:00\") \n",
    "\n",
    "# naive predictions are for yesterday values, shift 1 day \n",
    "y_all[\"nav_pred\"] = y_all[\"total_generation_MWh\"].shift(48)\n",
    "\n",
    "# filter data with spliting date\n",
    "y_filt = y_all[(y_all[\"dtm\"] >= split_date)]\n",
    "\n",
    "# cal MAE\n",
    "mae_train = mean_absolute_error(y_filt[\"total_generation_MWh\"], y_filt[\"nav_pred\"])\n",
    "print(f\"Train Naive MAE: {mae_train} MWh\")\n",
    "\n",
    "# Comp data \n",
    "# competition dates\n",
    "start_date_comp = pd.Timestamp(\"2024-02-20 00:00:00+00:00\")\n",
    "end_date_comp = pd.Timestamp(\"2024-05-19 23:30:00+00:00\")\n",
    "\n",
    "# nav pred, shift 1 day \n",
    "energy_data_2[\"nav_pred\"] = energy_data_2[\"total_generation_MWh\"].shift(48)\n",
    "energy_filt = energy_data_2[(energy_data_2[\"dtm\"] >= start_date_comp) & (energy_data_2[\"dtm\"] <= end_date_comp)]\n",
    "\n",
    "# cal MAE\n",
    "mae_comp = mean_absolute_error(energy_filt[\"total_generation_MWh\"], energy_filt[\"nav_pred\"])\n",
    "print(f\"Comp Naive MAE: {mae_comp} MWh\")\n"
   ]
  },
  {
   "cell_type": "markdown",
   "id": "ebed4d9e",
   "metadata": {},
   "source": [
    "# Quantiles "
   ]
  },
  {
   "cell_type": "code",
   "execution_count": 21,
   "id": "6391d386",
   "metadata": {},
   "outputs": [
    {
     "name": "stdout",
     "output_type": "stream",
     "text": [
      "Naive pinball score (training): 105.3710791285442\n",
      "Naive pinball score (competition): 82.00821995319968\n"
     ]
    }
   ],
   "source": [
    "# we have our lovely competition functions \n",
    "def pinball(y, q, alpha):\n",
    "    return (y - q) * alpha * (y >= q) + (q - y) * (1 - alpha) * (y < q)\n",
    "\n",
    "def pinball_score(df):\n",
    "    scores = [\n",
    "        pinball(\n",
    "            y=df[\"total_generation_MWh\"],\n",
    "            q=df[f\"q{qu}\"],\n",
    "            alpha=qu/100\n",
    "        ).mean()\n",
    "        for qu in range(10, 100, 10)\n",
    "    ]\n",
    "    return np.mean(scores)\n",
    "\n",
    "# Xavire ~ \"Assume same value for all quantiles\"\n",
    "quantiles = [0.1, 0.2, 0.3, 0.4, 0.5, 0.6, 0.7, 0.8, 0.9]\n",
    "\n",
    "# training\n",
    "naive_preds = {f\"q{int(q*100)}\": y_filt[\"nav_pred\"].values for q in quantiles}\n",
    "naive_preds[\"total_generation_MWh\"] = y_filt[\"total_generation_MWh\"].values\n",
    "df_naive = pd.DataFrame(naive_preds)\n",
    "\n",
    "score = pinball_score(df_naive)\n",
    "print(f\"Naive pinball score (training): {score}\")\n",
    "\n",
    "# comp \n",
    "# training\n",
    "naive_preds = {f\"q{int(q*100)}\": energy_filt[\"nav_pred\"].values for q in quantiles}\n",
    "naive_preds[\"total_generation_MWh\"] = energy_filt[\"total_generation_MWh\"].values\n",
    "df_naive = pd.DataFrame(naive_preds)\n",
    "\n",
    "score = pinball_score(df_naive)\n",
    "print(f\"Naive pinball score (competition): {score}\")\n"
   ]
  },
  {
   "cell_type": "code",
   "execution_count": null,
   "id": "ceea622b",
   "metadata": {},
   "outputs": [],
   "source": []
  }
 ],
 "metadata": {
  "kernelspec": {
   "display_name": "venv",
   "language": "python",
   "name": "python3"
  },
  "language_info": {
   "codemirror_mode": {
    "name": "ipython",
    "version": 3
   },
   "file_extension": ".py",
   "mimetype": "text/x-python",
   "name": "python",
   "nbconvert_exporter": "python",
   "pygments_lexer": "ipython3",
   "version": "3.10.4"
  }
 },
 "nbformat": 4,
 "nbformat_minor": 5
}
