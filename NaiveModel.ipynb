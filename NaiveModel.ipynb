{
 "cells": [
  {
   "cell_type": "markdown",
   "id": "99fa3d54",
   "metadata": {},
   "source": [
    "# Hello and welcome"
   ]
  },
  {
   "cell_type": "code",
   "execution_count": 1,
   "id": "a07d5bd9",
   "metadata": {},
   "outputs": [],
   "source": [
    "# import lib and data\n",
    "import numpy as np\n",
    "import pandas as pd\n",
    "from sklearn.metrics import mean_absolute_error\n",
    "\n",
    "# train\n",
    "y_all = pd.read_csv(\"data/target_train.csv\")\n",
    "y_all[\"dtm\"] = pd.to_datetime(y_all[\"dtm\"])\n",
    "\n",
    "# comp\n",
    "energy_data_2 = pd.read_csv(\"data_comp/Energy_Data_20240119_20240519.csv\")\n",
    "energy_data_2[\"dtm\"] = pd.to_datetime(energy_data_2[\"dtm\"])\n",
    "\n",
    "energy_data_2[\"Wind_MWh_credit\"] = 0.5 * energy_data_2[\"Wind_MW\"] - energy_data_2[\"boa_MWh\"]\n",
    "energy_data_2[\"Solar_MWh_credit\"] = 0.5 * energy_data_2[\"Solar_MW\"]\n",
    "energy_data_2[\"total_generation_MWh\"] = energy_data_2[\"Wind_MWh_credit\"] + energy_data_2[\"Solar_MWh_credit\"]\n"
   ]
  },
  {
   "cell_type": "markdown",
   "id": "d970cfae",
   "metadata": {},
   "source": [
    "# Train and Comp for Random Forest"
   ]
  },
  {
   "cell_type": "code",
   "execution_count": 2,
   "id": "1f683b8a",
   "metadata": {},
   "outputs": [
    {
     "name": "stdout",
     "output_type": "stream",
     "text": [
      "Train Naive MAE: 214.22408079035466 MWh\n",
      "Comp Naive MAE: 164.0164399063994 MWh\n"
     ]
    }
   ],
   "source": [
    "# Train data\n",
    "# RandomForest split dates\n",
    "# 65% and 35 % split\n",
    "#split_date = pd.Timestamp(\"2022-10-01 00:00:00+00:00\")\n",
    "\n",
    "# 80 %  and 20 % split \n",
    "split_date = pd.Timestamp(\"2023-03-15 00:00:00+00:00\")\n",
    "\n",
    "# naive predictions are for yesterday values, shift 1 day \n",
    "y_all[\"nav_pred\"] = y_all[\"total_generation_MWh\"].shift(48)\n",
    "\n",
    "# filter data with spliting date\n",
    "y_filt = y_all[(y_all[\"dtm\"] >= split_date)]\n",
    "\n",
    "# cal MAE\n",
    "mae_train = mean_absolute_error(y_filt[\"total_generation_MWh\"], y_filt[\"nav_pred\"])\n",
    "print(f\"Train Naive MAE: {mae_train} MWh\")\n",
    "\n",
    "# Comp data \n",
    "# competition dates\n",
    "start_date_comp = pd.Timestamp(\"2024-02-20 00:00:00+00:00\")\n",
    "end_date_comp = pd.Timestamp(\"2024-05-19 23:30:00+00:00\")\n",
    "\n",
    "# nav pred, shift 1 day \n",
    "energy_data_2[\"nav_pred\"] = energy_data_2[\"total_generation_MWh\"].shift(48)\n",
    "energy_filt = energy_data_2[(energy_data_2[\"dtm\"] >= start_date_comp) & (energy_data_2[\"dtm\"] <= end_date_comp)]\n",
    "\n",
    "# cal MAE\n",
    "mae_comp = mean_absolute_error(energy_filt[\"total_generation_MWh\"], energy_filt[\"nav_pred\"])\n",
    "print(f\"Comp Naive MAE: {mae_comp} MWh\")\n"
   ]
  },
  {
   "cell_type": "markdown",
   "id": "ebed4d9e",
   "metadata": {},
   "source": [
    "# Quantiles "
   ]
  },
  {
   "cell_type": "code",
   "execution_count": 3,
   "id": "6391d386",
   "metadata": {},
   "outputs": [
    {
     "name": "stdout",
     "output_type": "stream",
     "text": [
      "Naive Pinball Score (Training - Total): 107.1120\n",
      "Naive Pinball Score (Training - Solar): 130.6055\n",
      "Naive Pinball Score (Training - Wind):  146.6069\n",
      "Naive Pinball Score (Competition - Total): 82.0082\n",
      "Naive Pinball Score (Competition - Solar): 123.3838\n",
      "Naive Pinball Score (Competition - Wind):  118.6926\n"
     ]
    }
   ],
   "source": [
    "# we have our lovely competition functions \n",
    "def pinball(y, q, alpha):\n",
    "    return (y - q) * alpha * (y >= q) + (q - y) * (1 - alpha) * (y < q)\n",
    "\n",
    "def pinball_score(df):\n",
    "    scores = [\n",
    "        pinball(\n",
    "            y=df[\"total_generation_MWh\"],\n",
    "            q=df[f\"q{qu}\"],\n",
    "            alpha=qu/100\n",
    "        ).mean()\n",
    "        for qu in range(10, 100, 10)\n",
    "    ]\n",
    "    return np.mean(scores)\n",
    "\n",
    "def create_naive_df(y_true, y_naive):\n",
    "    naive_preds = {f\"q{int(q*100)}\": y_naive for q in quantiles}\n",
    "    naive_preds[\"total_generation_MWh\"] = y_true\n",
    "    return pd.DataFrame(naive_preds)\n",
    "\n",
    "# Xavire ~ \"Assume same value for all quantiles\"\n",
    "quantiles = [0.1, 0.2, 0.3, 0.4, 0.5, 0.6, 0.7, 0.8, 0.9]\n",
    "\n",
    "# train\n",
    "df_naive_train_total = create_naive_df(y_filt[\"total_generation_MWh\"].values, y_filt[\"nav_pred\"].values)\n",
    "df_naive_train_solar = create_naive_df(y_filt[\"Solar_MWh_credit\"].values, y_filt[\"nav_pred\"].values)\n",
    "df_naive_train_wind  = create_naive_df(y_filt[\"Wind_MWh_credit\"].values, y_filt[\"nav_pred\"].values)\n",
    "\n",
    "score_naive_train_total = pinball_score(df_naive_train_total)\n",
    "score_naive_train_solar = pinball_score(df_naive_train_solar)\n",
    "score_naive_train_wind  = pinball_score(df_naive_train_wind)\n",
    "\n",
    "print(f\"Naive Pinball Score (Training - Total): {score_naive_train_total:.4f}\")\n",
    "print(f\"Naive Pinball Score (Training - Solar): {score_naive_train_solar:.4f}\")\n",
    "print(f\"Naive Pinball Score (Training - Wind):  {score_naive_train_wind:.4f}\")\n",
    "\n",
    "# comp\n",
    "df_naive_comp_total = create_naive_df(energy_filt[\"total_generation_MWh\"].values, energy_filt[\"nav_pred\"].values)\n",
    "df_naive_comp_solar = create_naive_df(energy_filt[\"Solar_MWh_credit\"].values, energy_filt[\"nav_pred\"].values)\n",
    "df_naive_comp_wind  = create_naive_df(energy_filt[\"Wind_MWh_credit\"].values, energy_filt[\"nav_pred\"].values)\n",
    "\n",
    "score_naive_comp_total = pinball_score(df_naive_comp_total)\n",
    "score_naive_comp_solar = pinball_score(df_naive_comp_solar)\n",
    "score_naive_comp_wind  = pinball_score(df_naive_comp_wind)\n",
    "\n",
    "print(f\"Naive Pinball Score (Competition - Total): {score_naive_comp_total:.4f}\")\n",
    "print(f\"Naive Pinball Score (Competition - Solar): {score_naive_comp_solar:.4f}\")\n",
    "print(f\"Naive Pinball Score (Competition - Wind):  {score_naive_comp_wind:.4f}\")\n",
    "\n"
   ]
  },
  {
   "cell_type": "markdown",
   "id": "dbbe56e9",
   "metadata": {},
   "source": [
    "## Other Metrics"
   ]
  },
  {
   "cell_type": "code",
   "execution_count": null,
   "id": "ceea622b",
   "metadata": {},
   "outputs": [
    {
     "name": "stdout",
     "output_type": "stream",
     "text": [
      "\n",
      "Naive Training:\n",
      "Solar: {'MAE': 261.2110606713105, 'MAPE': np.float64(23356705984.953804), 'SMAPE': np.float64(124.70708829117754), 'RMSE': np.float64(335.36563234985823), 'R2': -1.1981277329779472, 'CRPS': np.float64(130.60553033565526), 'WIS': np.float64(1360.4742743297422)}\n",
      "Wind: {'MAE': 293.2137349596339, 'MAPE': np.float64(3081.8617203684903), 'SMAPE': np.float64(104.03742142049852), 'RMSE': np.float64(379.9607823810718), 'R2': -2.4194630090998515, 'CRPS': np.float64(146.60686747981697), 'WIS': np.float64(1527.1548695814267)}\n",
      "Combined: {'MAE': 214.22408079035466, 'MAPE': np.float64(751654.908239123), 'SMAPE': np.float64(72.00844117266698), 'RMSE': np.float64(277.91152587505707), 'R2': 0.08762907713740009, 'CRPS': np.float64(107.11204039517733), 'WIS': np.float64(1115.7504207830973)}\n",
      "\n",
      "Naive Compitition:\n",
      "Solar: {'MAE': 246.76759867444252, 'MAPE': np.float64(808636177.4192668), 'SMAPE': np.float64(131.35173324830305), 'RMSE': np.float64(294.940091736018), 'R2': -0.7439452661026538, 'CRPS': np.float64(123.38379933722126), 'WIS': np.float64(1285.2479097627215)}\n",
      "Wind: {'MAE': 237.38522016747024, 'MAPE': np.float64(5622.1169310669075), 'SMAPE': np.float64(91.18835686466751), 'RMSE': np.float64(324.868068734957), 'R2': -3.734020250353444, 'CRPS': np.float64(118.69261008373513), 'WIS': np.float64(1236.381355038908)}\n",
      "Combined: {'MAE': 164.0164399063994, 'MAPE': np.float64(50248.13193458385), 'SMAPE': np.float64(64.77845581841274), 'RMSE': np.float64(221.09959971332623), 'R2': 0.24256197152292414, 'CRPS': np.float64(82.00821995319967), 'WIS': np.float64(854.2522911791634)}\n"
     ]
    },
    {
     "name": "stderr",
     "output_type": "stream",
     "text": [
      "C:\\Users\\kjmli\\AppData\\Local\\Temp\\ipykernel_8812\\1796172375.py:6: RuntimeWarning: invalid value encountered in divide\n",
      "  diff = np.abs(y_true - y_pred) / denominator\n",
      "C:\\Users\\kjmli\\AppData\\Local\\Temp\\ipykernel_8812\\1796172375.py:6: RuntimeWarning: invalid value encountered in divide\n",
      "  diff = np.abs(y_true - y_pred) / denominator\n",
      "C:\\Users\\kjmli\\AppData\\Local\\Temp\\ipykernel_8812\\1796172375.py:6: RuntimeWarning: invalid value encountered in divide\n",
      "  diff = np.abs(y_true - y_pred) / denominator\n",
      "C:\\Users\\kjmli\\AppData\\Local\\Temp\\ipykernel_8812\\1796172375.py:6: RuntimeWarning: invalid value encountered in divide\n",
      "  diff = np.abs(y_true - y_pred) / denominator\n",
      "C:\\Users\\kjmli\\AppData\\Local\\Temp\\ipykernel_8812\\1796172375.py:6: RuntimeWarning: invalid value encountered in divide\n",
      "  diff = np.abs(y_true - y_pred) / denominator\n",
      "C:\\Users\\kjmli\\AppData\\Local\\Temp\\ipykernel_8812\\1796172375.py:6: RuntimeWarning: invalid value encountered in divide\n",
      "  diff = np.abs(y_true - y_pred) / denominator\n"
     ]
    }
   ],
   "source": [
    "# COPIED FROM XGBoost \n",
    "from sklearn.metrics import mean_absolute_error,mean_absolute_percentage_error, mean_squared_error, r2_score\n",
    "\n",
    "def smape(y_true, y_pred):\n",
    "    denominator = (np.abs(y_true) + np.abs(y_pred)) / 2.0\n",
    "    diff = np.abs(y_true - y_pred) / denominator\n",
    "    diff[denominator == 0] = 0.0  # avoid division by zero\n",
    "    return 100 * np.mean(diff)\n",
    "\n",
    "# Mean Absolute Percentage Error\n",
    "# own function to forcefully ingore division by zero\n",
    "def mape(y_true, y_pred):\n",
    "    mask = y_true != 0\n",
    "    return 100 * np.mean(np.abs((y_true[mask] - y_pred[mask]) / y_true[mask]))\n",
    "\n",
    "# Continuous Ranked Probability Score\n",
    "def crps(y_true, quantile_preds, quantiles):\n",
    "    y = y_true.reshape(-1, 1)\n",
    "    q_vals = np.array(quantiles).reshape(1, -1)\n",
    "    indicator = (y < quantile_preds).astype(float)\n",
    "    return np.mean((indicator - q_vals) * (quantile_preds - y))\n",
    "\n",
    "# Weighted Interval Score\n",
    "def wis(y_true, quantile_preds, quantiles):\n",
    "    # Assumes symmetric quantile pairs around the median\n",
    "    lower_idxs = list(range(len(quantiles) // 2))\n",
    "    upper_idxs = list(range(len(quantiles) - 1, len(quantiles) // 2 - 1, -1))\n",
    "    \n",
    "    wis_total = 0.0\n",
    "    for l_idx, u_idx in zip(lower_idxs, upper_idxs):\n",
    "        alpha = quantiles[u_idx] - quantiles[l_idx]\n",
    "        lower = quantile_preds[:, l_idx]\n",
    "        upper = quantile_preds[:, u_idx]\n",
    "        range_ = upper - lower\n",
    "        below = np.maximum(lower - y_true, 0)\n",
    "        above = np.maximum(y_true - upper, 0)\n",
    "        wis_total += range_ + 2 / alpha * below + 2 / alpha * above\n",
    "\n",
    "    return np.mean(wis_total / len(lower_idxs))\n",
    "\n",
    "def evaluate_forecast(df, quantiles):\n",
    "    y_true = df[\"total_generation_MWh\"].values\n",
    "    y_pred = df[\"q50\"].values\n",
    "    quantile_preds = np.stack([df[f\"q{int(q*100)}\"].values for q in quantiles], axis=-1)\n",
    "    \n",
    "    mae = mean_absolute_error(y_true, y_pred)\n",
    "    rmse = np.sqrt(mean_squared_error(y_true, y_pred))\n",
    "    r2 = r2_score(y_true, y_pred)\n",
    "    mape_ = mape(y_true, y_pred)\n",
    "    smape_ = smape(y_true, y_pred)\n",
    "    crps_ = crps(y_true, quantile_preds, quantiles)\n",
    "    wis_ = wis(y_true, quantile_preds, quantiles)\n",
    "\n",
    "    return {\n",
    "        \"MAE\": mae,\n",
    "        \"MAPE\": mape_,\n",
    "        \"SMAPE\": smape_,\n",
    "        \"RMSE\": rmse,\n",
    "        \"R2\": r2,\n",
    "        \"CRPS\": crps_,\n",
    "        \"WIS\": wis_\n",
    "    }\n",
    "\n",
    "# Evaluate the naive forecast\n",
    "print(\"\\nNaive Training:\")\n",
    "metrics_solar = evaluate_forecast(df_naive_train_solar, quantiles)\n",
    "metrics_wind = evaluate_forecast(df_naive_train_wind, quantiles)\n",
    "metrics_combined = evaluate_forecast(df_naive_train_total, quantiles)\n",
    "\n",
    "print(\"Solar:\", metrics_solar)\n",
    "print(\"Wind:\", metrics_wind)\n",
    "print(\"Combined:\", metrics_combined)\n",
    "\n",
    "print(\"\\nNaive Compitition:\")\n",
    "metrics_solar = evaluate_forecast(df_naive_comp_solar, quantiles)\n",
    "metrics_wind = evaluate_forecast(df_naive_comp_wind, quantiles)\n",
    "metrics_combined = evaluate_forecast(df_naive_comp_total, quantiles)\n",
    "\n",
    "print(\"Solar:\", metrics_solar)\n",
    "print(\"Wind:\", metrics_wind)\n",
    "print(\"Combined:\", metrics_combined)\n",
    "\n",
    "#Naive Training:\n",
    "#Solar: {'MAE': 261.2110606713105, 'MAPE': np.float64(23356705984.953804), 'SMAPE': np.float64(124.70708829117754), 'RMSE': np.float64(335.36563234985823), 'R2': -1.1981277329779472, 'CRPS': np.float64(130.60553033565526), 'WIS': np.float64(1360.4742743297422)}\n",
    "#Wind: {'MAE': 293.2137349596339, 'MAPE': np.float64(3081.8617203684903), 'SMAPE': np.float64(104.03742142049852), 'RMSE': np.float64(379.9607823810718), 'R2': -2.4194630090998515, 'CRPS': np.float64(146.60686747981697), 'WIS': np.float64(1527.1548695814267)}\n",
    "#Combined: {'MAE': 214.22408079035466, 'MAPE': np.float64(751654.908239123), 'SMAPE': np.float64(72.00844117266698), 'RMSE': np.float64(277.91152587505707), 'R2': 0.08762907713740009, 'CRPS': np.float64(107.11204039517733), 'WIS': np.float64(1115.7504207830973)}\n",
    "\n",
    "#Naive Compitition:\n",
    "#Solar: {'MAE': 246.76759867444252, 'MAPE': np.float64(808636177.4192668), 'SMAPE': np.float64(131.35173324830305), 'RMSE': np.float64(294.940091736018), 'R2': -0.7439452661026538, 'CRPS': np.float64(123.38379933722126), 'WIS': np.float64(1285.2479097627215)}\n",
    "#Wind: {'MAE': 237.38522016747024, 'MAPE': np.float64(5622.1169310669075), 'SMAPE': np.float64(91.18835686466751), 'RMSE': np.float64(324.868068734957), 'R2': -3.734020250353444, 'CRPS': np.float64(118.69261008373513), 'WIS': np.float64(1236.381355038908)}\n",
    "#Combined: {'MAE': 164.0164399063994, 'MAPE': np.float64(50248.13193458385), 'SMAPE': np.float64(64.77845581841274), 'RMSE': np.float64(221.09959971332623), 'R2': 0.24256197152292414, 'CRPS': np.float64(82.00821995319967), 'WIS': np.float64(854.2522911791634)}\n"
   ]
  }
 ],
 "metadata": {
  "kernelspec": {
   "display_name": "venv",
   "language": "python",
   "name": "python3"
  },
  "language_info": {
   "codemirror_mode": {
    "name": "ipython",
    "version": 3
   },
   "file_extension": ".py",
   "mimetype": "text/x-python",
   "name": "python",
   "nbconvert_exporter": "python",
   "pygments_lexer": "ipython3",
   "version": "3.10.4"
  }
 },
 "nbformat": 4,
 "nbformat_minor": 5
}
